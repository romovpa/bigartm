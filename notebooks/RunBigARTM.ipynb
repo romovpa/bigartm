{
 "metadata": {
  "name": "",
  "signature": "sha256:9dfeca25f19941e6d1be86030b15295974680eb5a3b32e26067c2eadf165c47d"
 },
 "nbformat": 3,
 "nbformat_minor": 0,
 "worksheets": [
  {
   "cells": [
    {
     "cell_type": "code",
     "collapsed": false,
     "input": [
      "!ls"
     ],
     "language": "python",
     "metadata": {},
     "outputs": [
      {
       "output_type": "stream",
       "stream": "stdout",
       "text": [
        "BigARTM_CommandLineInferface.ipynb        BigARTM_PythonVisualizationAPI_Demo.ipynb bigartm.py\r\n",
        "BigARTM_For_Humans.ipynb                  RunBigARTM.ipynb                          bigartm.pyc\r\n",
        "BigARTM_LDAvis.ipynb                      Topic_Models_Visualization.ipynb          \u001b[1m\u001b[36mimages\u001b[m\u001b[m\r\n"
       ]
      }
     ],
     "prompt_number": 1
    },
    {
     "cell_type": "code",
     "collapsed": false,
     "input": [],
     "language": "python",
     "metadata": {},
     "outputs": []
    }
   ],
   "metadata": {}
  }
 ]
}