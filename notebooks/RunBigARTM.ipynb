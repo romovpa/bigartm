{
 "metadata": {
  "name": "",
  "signature": "sha256:6c05df723368f8bbeeb414cf0a8d13734121cbe6ceb3ec778c8f76d9ef671db8"
 },
 "nbformat": 3,
 "nbformat_minor": 0,
 "worksheets": [
  {
   "cells": [
    {
     "cell_type": "code",
     "collapsed": false,
     "input": [
      "!ls"
     ],
     "language": "python",
     "metadata": {},
     "outputs": [
      {
       "output_type": "stream",
       "stream": "stdout",
       "text": [
        "BigARTM_CommandLineInferface.ipynb        BigARTM_PythonVisualizationAPI_Demo.ipynb bigartm.py\r\n",
        "BigARTM_For_Humans.ipynb                  RunBigARTM.ipynb                          bigartm.pyc\r\n",
        "BigARTM_LDAvis.ipynb                      Topic_Models_Visualization.ipynb          \u001b[1m\u001b[36mimages\u001b[m\u001b[m\r\n"
       ]
      }
     ],
     "prompt_number": 1
    },
    {
     "cell_type": "code",
     "collapsed": false,
     "input": [
      "import sys"
     ],
     "language": "python",
     "metadata": {},
     "outputs": [],
     "prompt_number": 2
    },
    {
     "cell_type": "code",
     "collapsed": false,
     "input": [
      "sys.path.append('/Users/romovpa/workspace/bigartm/src/python')"
     ],
     "language": "python",
     "metadata": {},
     "outputs": [],
     "prompt_number": 3
    },
    {
     "cell_type": "code",
     "collapsed": false,
     "input": [
      "import artm.messages_pb2, artm.library, sys, glob\n"
     ],
     "language": "python",
     "metadata": {},
     "outputs": [],
     "prompt_number": 6
    },
    {
     "cell_type": "code",
     "collapsed": false,
     "input": [
      "import os"
     ],
     "language": "python",
     "metadata": {},
     "outputs": [],
     "prompt_number": 8
    },
    {
     "cell_type": "code",
     "collapsed": true,
     "input": [
      "os.environ['ARTM_SHARED_LIBRARY'] = '/Users/romovpa/workspace/bigartm/build/src/artm/libartm.dylib'"
     ],
     "language": "python",
     "metadata": {},
     "outputs": [],
     "prompt_number": 9
    },
    {
     "cell_type": "code",
     "collapsed": false,
     "input": [
      "with artm.library.MasterComponent() as master:\n",
      "    # Create dictionary with tokens frequencies\n",
      "    #dictionary = master.CreateDictionary(unique_tokens)\n",
      "\n",
      "    # Configure basic scores\n",
      "    perplexity_score = master.CreatePerplexityScore()\n",
      "    sparsity_theta_score = master.CreateSparsityThetaScore()\n",
      "    sparsity_phi_score = master.CreateSparsityPhiScore()\n",
      "    top_tokens_score = master.CreateTopTokensScore()\n",
      "    theta_snippet_score = master.CreateThetaSnippetScore()"
     ],
     "language": "python",
     "metadata": {},
     "outputs": [
      {
       "output_type": "stream",
       "stream": "stderr",
       "text": [
        "dlopen(libartm.dylib, 6): image not found, fall back to ARTM_SHARED_LIBRARY environment variable\n"
       ]
      }
     ],
     "prompt_number": 12
    },
    {
     "cell_type": "code",
     "collapsed": false,
     "input": [],
     "language": "python",
     "metadata": {},
     "outputs": []
    }
   ],
   "metadata": {}
  }
 ]
}