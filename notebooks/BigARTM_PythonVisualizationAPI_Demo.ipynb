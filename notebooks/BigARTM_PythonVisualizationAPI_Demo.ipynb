{
 "metadata": {
  "name": "",
  "signature": "sha256:e919acc9c6942903128c3f2c2bc1e0afeeeeccb3f0b80cd87ac4ce3da716a3b5"
 },
 "nbformat": 3,
 "nbformat_minor": 0,
 "worksheets": [
  {
   "cells": [
    {
     "cell_type": "heading",
     "level": 1,
     "metadata": {},
     "source": [
      "BigARTM Python Visualization API Demo"
     ]
    },
    {
     "cell_type": "code",
     "collapsed": false,
     "input": [
      "import bigartm\n",
      "reload(bigartm)"
     ],
     "language": "python",
     "metadata": {},
     "outputs": [
      {
       "metadata": {},
       "output_type": "pyout",
       "prompt_number": 2,
       "text": [
        "<module 'bigartm' from 'bigartm.py'>"
       ]
      }
     ],
     "prompt_number": 2
    },
    {
     "cell_type": "code",
     "collapsed": false,
     "input": [
      "model = bigartm.Model()\n",
      "model.load('habrahabr_model')"
     ],
     "language": "python",
     "metadata": {},
     "outputs": []
    },
    {
     "cell_type": "code",
     "collapsed": false,
     "input": [
      "model.show_topics()"
     ],
     "language": "python",
     "metadata": {},
     "outputs": []
    },
    {
     "cell_type": "markdown",
     "metadata": {},
     "source": [
      "## \u0417\u0430\u043f\u0438\u043b\u0438\u0442\u044c \u0432\u0438\u0437\u0443\u0430\u043b\u0438\u0437\u0430\u0446\u0438\u044e LDAvis\n",
      "\n",
      "[LDAvis](https://github.com/cpsievert/LDAvis)\n",
      "[\u043f\u0440\u0438\u043c\u0435\u0440](http://cpsievert.github.io/LDAvis/reviews/vis/#topic=8&lambda=0.73&term=)"
     ]
    },
    {
     "cell_type": "code",
     "collapsed": false,
     "input": [
      "model.show_ldavis()"
     ],
     "language": "python",
     "metadata": {},
     "outputs": []
    }
   ],
   "metadata": {}
  }
 ]
}