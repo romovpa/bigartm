{
 "metadata": {
  "name": "",
  "signature": "sha256:27fe2ffad5b9a9a83e2cc2e0a77693979e5a331700f706565c7c04fc718dfbe7"
 },
 "nbformat": 3,
 "nbformat_minor": 0,
 "worksheets": [
  {
   "cells": [
    {
     "cell_type": "markdown",
     "metadata": {},
     "source": [
      "# \u041e\u0431\u0437\u043e\u0440 \u0441\u0440\u0435\u0434\u0441\u0442\u0432 \u0432\u0438\u0437\u0443\u0430\u043b\u0438\u0437\u0430\u0446\u0438\u0438 \u0442\u0435\u043c\u0430\u0442\u0438\u0447\u0435\u0441\u043a\u0438\u0445 \u043c\u043e\u0434\u0435\u043b\u0435\u0439\n",
      "\n",
      "## \u0427\u0442\u043e \u043c\u043e\u0436\u043d\u043e \u0432\u0438\u0437\u0443\u0430\u043b\u0438\u0437\u0438\u0440\u043e\u0432\u0430\u0442\u044c\n",
      "\n",
      "1. \u0422\u0435\u043c\u0430\u0442\u0438\u0447\u0435\u0441\u043a\u0443\u044e \u043c\u043e\u0434\u0435\u043b\u044c \u0438 \u0442\u043e\u043b\u044c\u043a\u043e \u0435\u0435\n",
      "2. \u041e\u0434\u0438\u043d \u0434\u043e\u043a\u0443\u043c\u0435\u043d\u0442 \u043e\u0442\u043d\u043e\u0441\u0438\u0442\u0435\u043b\u044c\u043d\u043e \u0435\u0433\u043e \u0442\u0435\u043c\u0430\u0442\u0438\u0447\u0435\u0441\u043a\u043e\u0439 \u0441\u0442\u0440\u0443\u043a\u0442\u0443\u0440\u044b\n",
      "3. \u041a\u043e\u0440\u043f\u0443\u0441 \u0442\u0435\u043a\u0441\u0442\u043e\u0432 \u043e\u0442\u043d\u043e\u0441\u0438\u0442\u0435\u043b\u044c\u043d\u043e \u0442\u0435\u043c\u0430\u0442\u0438\u0447\u0435\u0441\u043a\u043e\u0439 \u043c\u043e\u0434\u0435\u043b\u0438"
     ]
    },
    {
     "cell_type": "markdown",
     "metadata": {},
     "source": [
      "## LDAvis\n",
      "\n",
      "\u041f\u043e\u0437\u0432\u043e\u043b\u044f\u0435\u0442\n",
      "\n",
      "- [\u043a\u043e\u0434 \u043d\u0430 Github](https://github.com/cpsievert/LDAvis)\n",
      "- [\u043f\u0440\u0438\u043c\u0435\u0440 \u0432\u0438\u0437\u0443\u0430\u043b\u0438\u0437\u0430\u0446\u0438\u0438](http://cpsievert.github.io/LDAvis/reviews/vis/#topic=17&lambda=1&term=)\n",
      "- [\u0441\u0442\u0430\u0442\u044c\u044f Sievert & Shirley 2014](http://nlp.stanford.edu/events/illvi2014/papers/sievert-illvi2014.pdf)\n"
     ]
    },
    {
     "cell_type": "markdown",
     "metadata": {},
     "source": [
      "## Termite\n",
      "\n",
      "- [\u043a\u043e\u0434 \u043d\u0430 Github](https://github.com/StanfordHCI/termite)\n",
      "- [\u0441\u0442\u0430\u0442\u044c\u044f Chuang et al, 2012](http://vis.stanford.edu/files/2012-Termite-AVI.pdf)\n",
      "- [\u0432\u0441\u0435 \u043f\u0440\u043e\u0435\u043a\u0442\u044b \u0430\u0432\u0442\u043e\u0440\u0430](http://jason.chuang.info/)\n",
      "- [Topic Model Diagnostic](http://vis.stanford.edu/files/2013-TopicModelDiagnostics-ICML.pdf)"
     ]
    },
    {
     "cell_type": "markdown",
     "metadata": {},
     "source": [
      "## Turbo Topics\n",
      "\n",
      "- [\u043a\u043e\u0434 \u043d\u0430 Github](https://github.com/Blei-Lab/turbotopics)\n",
      "- [\u0441\u0442\u0430\u0442\u044c\u044f Blei & Lafferty 2009](http://arxiv.org/pdf/0907.1013.pdf)"
     ]
    },
    {
     "cell_type": "markdown",
     "metadata": {},
     "source": [
      "## \u0412\u0438\u0437\u0443\u0430\u043b\u0438\u0437\u0430\u0442\u043e\u0440 \u041f\u043b\u0430\u0432\u0438\u043d\u0430\n",
      "\n",
      "- [\u0440\u0435\u043f\u043e\u0437\u0438\u0442\u043e\u0440\u0438\u0438 \u0441 \u043a\u043e\u0434\u043e\u043c](https://hg.plav.in/my_projects/artm) (Python + Flask + \u0441\u0430\u043c\u043e\u043f\u0438\u0441\u043d\u043e\u0435 \u043e\u0431\u0443\u0447\u0435\u043d\u0438\u0435 ARTM)\n",
      "- [\u043f\u0440\u0438\u043c\u0435\u0440 \u0440\u0430\u0431\u043e\u0442\u044b \u043d\u0430 \u043a\u043e\u043b\u043b\u0435\u043a\u0446\u0438\u0438 \u041c\u041c\u0420\u041e](https://tmvis.plav.in/)\n",
      "\n",
      "\u0424\u0443\u043d\u043a\u0446\u0438\u043e\u043d\u0430\u043b\u044c\u043d\u043e\u0441\u0442\u044c:\n",
      "  - \u043e\u0431\u0437\u043e\u0440 \u0442\u0435\u043c\n",
      "  - \u043e\u0431\u0437\u043e\u0440 \u0434\u043e\u043a\u0443\u043c\u0435\u043d\u0442\u043e\u0432, \u0432\u043a\u043b\u044e\u0447\u0430\u044f \u043f\u0440\u043e\u0441\u043c\u043e\u0442\u0440 \u0441\u043e\u0434\u0435\u0440\u0436\u0438\u043c\u043e\u0433\u043e\n",
      "  - topic flow \u0432 \u0434\u043e\u043a\u0443\u043c\u0435\u043d\u0442\u0435\n",
      "  - \u043e\u0431\u0437\u043e\u0440 \u0441\u043b\u043e\u0432, \u043f\u043e\u0438\u0441\u043a \u043f\u043e \u0441\u043b\u043e\u0432\u0443"
     ]
    },
    {
     "cell_type": "code",
     "collapsed": false,
     "input": [],
     "language": "python",
     "metadata": {},
     "outputs": []
    }
   ],
   "metadata": {}
  }
 ]
}